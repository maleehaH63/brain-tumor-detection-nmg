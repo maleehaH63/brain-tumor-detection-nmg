{
 "cells": [
  {
   "cell_type": "code",
   "execution_count": 1,
   "metadata": {},
   "outputs": [],
   "source": [
    "from keras.layers import Input, Lambda, Dense, Flatten\n",
    "from keras.models import Model\n",
    "from keras.applications.vgg19 import VGG19\n",
    "from keras.applications.vgg16 import preprocess_input\n",
    "from keras.preprocessing import image\n",
    "from keras.preprocessing.image import ImageDataGenerator\n",
    "from keras.models import Sequential\n",
    "import numpy as np\n",
    "from glob import glob\n",
    "import matplotlib.pyplot as plt"
   ]
  },
  {
   "cell_type": "code",
   "execution_count": 2,
   "metadata": {},
   "outputs": [],
   "source": [
    "IMAGE_SIZE = [224, 224]\n",
    "\n",
    "train_path = 'Datasets/Train'\n",
    "valid_path = 'Datasets/Test'"
   ]
  },
  {
   "cell_type": "code",
   "execution_count": 3,
   "metadata": {},
   "outputs": [],
   "source": [
    "vgg = VGG19(input_shape=IMAGE_SIZE + [3], weights='imagenet', include_top=False)"
   ]
  },
  {
   "cell_type": "code",
   "execution_count": 4,
   "metadata": {},
   "outputs": [],
   "source": [
    "for layer in vgg.layers:\n",
    "  layer.trainable = False"
   ]
  },
  {
   "cell_type": "code",
   "execution_count": 5,
   "metadata": {},
   "outputs": [],
   "source": [
    "folders = glob('Datasets/Train/*')"
   ]
  },
  {
   "cell_type": "code",
   "execution_count": 6,
   "metadata": {},
   "outputs": [],
   "source": [
    "x = Flatten()(vgg.output)"
   ]
  },
  {
   "cell_type": "code",
   "execution_count": 7,
   "metadata": {},
   "outputs": [],
   "source": [
    "\n",
    "prediction = Dense(len(folders), activation='softmax')(x)"
   ]
  },
  {
   "cell_type": "code",
   "execution_count": 8,
   "metadata": {},
   "outputs": [],
   "source": [
    "model = Model(inputs=vgg.input, outputs=prediction)"
   ]
  },
  {
   "cell_type": "code",
   "execution_count": 9,
   "metadata": {},
   "outputs": [
    {
     "name": "stdout",
     "output_type": "stream",
     "text": [
      "Model: \"model\"\n",
      "_________________________________________________________________\n",
      "Layer (type)                 Output Shape              Param #   \n",
      "=================================================================\n",
      "input_1 (InputLayer)         [(None, 224, 224, 3)]     0         \n",
      "_________________________________________________________________\n",
      "block1_conv1 (Conv2D)        (None, 224, 224, 64)      1792      \n",
      "_________________________________________________________________\n",
      "block1_conv2 (Conv2D)        (None, 224, 224, 64)      36928     \n",
      "_________________________________________________________________\n",
      "block1_pool (MaxPooling2D)   (None, 112, 112, 64)      0         \n",
      "_________________________________________________________________\n",
      "block2_conv1 (Conv2D)        (None, 112, 112, 128)     73856     \n",
      "_________________________________________________________________\n",
      "block2_conv2 (Conv2D)        (None, 112, 112, 128)     147584    \n",
      "_________________________________________________________________\n",
      "block2_pool (MaxPooling2D)   (None, 56, 56, 128)       0         \n",
      "_________________________________________________________________\n",
      "block3_conv1 (Conv2D)        (None, 56, 56, 256)       295168    \n",
      "_________________________________________________________________\n",
      "block3_conv2 (Conv2D)        (None, 56, 56, 256)       590080    \n",
      "_________________________________________________________________\n",
      "block3_conv3 (Conv2D)        (None, 56, 56, 256)       590080    \n",
      "_________________________________________________________________\n",
      "block3_conv4 (Conv2D)        (None, 56, 56, 256)       590080    \n",
      "_________________________________________________________________\n",
      "block3_pool (MaxPooling2D)   (None, 28, 28, 256)       0         \n",
      "_________________________________________________________________\n",
      "block4_conv1 (Conv2D)        (None, 28, 28, 512)       1180160   \n",
      "_________________________________________________________________\n",
      "block4_conv2 (Conv2D)        (None, 28, 28, 512)       2359808   \n",
      "_________________________________________________________________\n",
      "block4_conv3 (Conv2D)        (None, 28, 28, 512)       2359808   \n",
      "_________________________________________________________________\n",
      "block4_conv4 (Conv2D)        (None, 28, 28, 512)       2359808   \n",
      "_________________________________________________________________\n",
      "block4_pool (MaxPooling2D)   (None, 14, 14, 512)       0         \n",
      "_________________________________________________________________\n",
      "block5_conv1 (Conv2D)        (None, 14, 14, 512)       2359808   \n",
      "_________________________________________________________________\n",
      "block5_conv2 (Conv2D)        (None, 14, 14, 512)       2359808   \n",
      "_________________________________________________________________\n",
      "block5_conv3 (Conv2D)        (None, 14, 14, 512)       2359808   \n",
      "_________________________________________________________________\n",
      "block5_conv4 (Conv2D)        (None, 14, 14, 512)       2359808   \n",
      "_________________________________________________________________\n",
      "block5_pool (MaxPooling2D)   (None, 7, 7, 512)         0         \n",
      "_________________________________________________________________\n",
      "flatten (Flatten)            (None, 25088)             0         \n",
      "_________________________________________________________________\n",
      "dense (Dense)                (None, 2)                 50178     \n",
      "=================================================================\n",
      "Total params: 20,074,562\n",
      "Trainable params: 50,178\n",
      "Non-trainable params: 20,024,384\n",
      "_________________________________________________________________\n"
     ]
    }
   ],
   "source": [
    "model.summary()"
   ]
  },
  {
   "cell_type": "code",
   "execution_count": 10,
   "metadata": {},
   "outputs": [],
   "source": [
    "model.compile(\n",
    "  loss='categorical_crossentropy',\n",
    "  optimizer='adam',\n",
    "  metrics=['accuracy']\n",
    ")"
   ]
  },
  {
   "cell_type": "code",
   "execution_count": 11,
   "metadata": {},
   "outputs": [],
   "source": [
    "from keras.preprocessing.image import ImageDataGenerator\n",
    "\n",
    "train_datagen = ImageDataGenerator(rescale = 1./255,\n",
    "                                   shear_range = 0.2,\n",
    "                                   zoom_range = 0.2,\n",
    "                                   horizontal_flip = True)\n",
    "\n",
    "test_datagen = ImageDataGenerator(rescale = 1./255)"
   ]
  },
  {
   "cell_type": "code",
   "execution_count": 12,
   "metadata": {},
   "outputs": [
    {
     "name": "stdout",
     "output_type": "stream",
     "text": [
      "Found 1217 images belonging to 2 classes.\n"
     ]
    }
   ],
   "source": [
    "training_set = train_datagen.flow_from_directory('Datasets/Train',\n",
    "                                                 target_size = (224, 224),\n",
    "                                                 batch_size = 128,\n",
    "                                                 class_mode = 'categorical')"
   ]
  },
  {
   "cell_type": "code",
   "execution_count": 13,
   "metadata": {},
   "outputs": [
    {
     "name": "stdout",
     "output_type": "stream",
     "text": [
      "Found 220 images belonging to 2 classes.\n"
     ]
    }
   ],
   "source": [
    "test_set = test_datagen.flow_from_directory('Datasets/Test',\n",
    "                                            target_size = (224, 224),\n",
    "                                            batch_size = 32,\n",
    "                                            class_mode = 'categorical')"
   ]
  },
  {
   "cell_type": "code",
   "execution_count": 14,
   "metadata": {},
   "outputs": [
    {
     "name": "stderr",
     "output_type": "stream",
     "text": [
      "C:\\Users\\Admin\\anaconda3\\lib\\site-packages\\tensorflow\\python\\keras\\engine\\training.py:1844: UserWarning: `Model.fit_generator` is deprecated and will be removed in a future version. Please use `Model.fit`, which supports generators.\n",
      "  warnings.warn('`Model.fit_generator` is deprecated and '\n"
     ]
    },
    {
     "name": "stdout",
     "output_type": "stream",
     "text": [
      "Epoch 1/10\n",
      "10/10 [==============================] - 1167s 119s/step - loss: 0.8647 - accuracy: 0.6461 - val_loss: 0.9135 - val_accuracy: 0.5545\n",
      "Epoch 2/10\n",
      "10/10 [==============================] - 724s 73s/step - loss: 0.4219 - accuracy: 0.8190 - val_loss: 0.6514 - val_accuracy: 0.6591\n",
      "Epoch 3/10\n",
      "10/10 [==============================] - 721s 73s/step - loss: 0.3093 - accuracy: 0.8673 - val_loss: 0.4850 - val_accuracy: 0.7818\n",
      "Epoch 4/10\n",
      "10/10 [==============================] - 2502s 270s/step - loss: 0.2188 - accuracy: 0.9100 - val_loss: 0.3878 - val_accuracy: 0.8273\n",
      "Epoch 5/10\n",
      "10/10 [==============================] - 743s 73s/step - loss: 0.2011 - accuracy: 0.9160 - val_loss: 0.4113 - val_accuracy: 0.8182\n",
      "Epoch 6/10\n",
      "10/10 [==============================] - 720s 72s/step - loss: 0.1945 - accuracy: 0.9246 - val_loss: 0.3536 - val_accuracy: 0.8455\n",
      "Epoch 7/10\n",
      "10/10 [==============================] - 1257s 132s/step - loss: 0.1487 - accuracy: 0.9492 - val_loss: 0.3068 - val_accuracy: 0.8818\n",
      "Epoch 8/10\n",
      "10/10 [==============================] - 1447s 146s/step - loss: 0.1459 - accuracy: 0.9491 - val_loss: 0.2880 - val_accuracy: 0.8955\n",
      "Epoch 9/10\n",
      "10/10 [==============================] - 1449s 146s/step - loss: 0.1394 - accuracy: 0.9510 - val_loss: 0.2597 - val_accuracy: 0.9136\n",
      "Epoch 10/10\n",
      "10/10 [==============================] - 1103s 112s/step - loss: 0.1369 - accuracy: 0.9464 - val_loss: 0.2215 - val_accuracy: 0.9227\n"
     ]
    }
   ],
   "source": [
    "r = model.fit_generator(\n",
    "  training_set,\n",
    "  validation_data=test_set,\n",
    "  epochs=10,\n",
    "  steps_per_epoch=len(training_set),\n",
    "  validation_steps=len(test_set))"
   ]
  },
  {
   "cell_type": "code",
   "execution_count": 15,
   "metadata": {},
   "outputs": [
    {
     "data": {
      "image/png": "[encoded data removed]",
      "text/plain": [
       "<Figure size 432x288 with 1 Axes>"
      ]
     },
     "metadata": {
      "needs_background": "light"
     },
     "output_type": "display_data"
    },
    {
     "data": {
      "text/plain": [
       "<Figure size 432x288 with 0 Axes>"
      ]
     },
     "metadata": {},
     "output_type": "display_data"
    }
   ],
   "source": [
    "\n",
    "# loss\n",
    "plt.plot(r.history['loss'], label='train loss')\n",
    "plt.plot(r.history['val_loss'], label='val loss')\n",
    "plt.legend()\n",
    "plt.show()\n",
    "plt.savefig('LossVal_loss')"
   ]
  },
  {
   "cell_type": "code",
   "execution_count": 16,
   "metadata": {},
   "outputs": [
    {
     "data": {
      "image/png": "[encoded data removed]",
      "text/plain": [
       "<Figure size 432x288 with 1 Axes>"
      ]
     },
     "metadata": {
      "needs_background": "light"
     },
     "output_type": "display_data"
    },
    {
     "data": {
      "text/plain": [
       "<Figure size 432x288 with 0 Axes>"
      ]
     },
     "metadata": {},
     "output_type": "display_data"
    }
   ],
   "source": [
    "# accuracies\n",
    "plt.plot(r.history['accuracy'], label='train accuracy')\n",
    "plt.plot(r.history['val_accuracy'], label='val accuracy')\n",
    "plt.legend()\n",
    "plt.show()\n",
    "plt.savefig('AccVal_accuracy')"
   ]
  },
  {
   "cell_type": "code",
   "execution_count": 17,
   "metadata": {},
   "outputs": [],
   "source": [
    "import tensorflow as tf\n",
    "\n",
    "from keras.models import load_model\n",
    "\n",
    "model.save('brain_model_vgg19.h5')"
   ]
  },
  {
   "cell_type": "code",
   "execution_count": null,
   "metadata": {},
   "outputs": [],
   "source": []
  },
  {
   "cell_type": "code",
   "execution_count": 18,
   "metadata": {},
   "outputs": [],
   "source": [
    "y_pred = model.predict(test_set)"
   ]
  },
  {
   "cell_type": "code",
   "execution_count": 19,
   "metadata": {},
   "outputs": [
    {
     "data": {
      "text/plain": [
       "array([[6.38977885e-02, 9.36102152e-01],\n",
       "       [6.16591750e-03, 9.93834138e-01],\n",
       "       [1.94958858e-02, 9.80504155e-01],\n",
       "       [9.85539079e-01, 1.44609492e-02],\n",
       "       [8.97875965e-01, 1.02124102e-01],\n",
       "       [4.87287715e-02, 9.51271176e-01],\n",
       "       [3.81743023e-03, 9.96182501e-01],\n",
       "       [8.80988687e-02, 9.11901176e-01],\n",
       "       [9.80689228e-01, 1.93107352e-02],\n",
       "       [9.87400711e-01, 1.25992727e-02],\n",
       "       [9.47719574e-01, 5.22804782e-02],\n",
       "       [3.83841604e-01, 6.16158485e-01],\n",
       "       [9.89536289e-03, 9.90104616e-01],\n",
       "       [3.62870209e-02, 9.63712990e-01],\n",
       "       [7.60749936e-01, 2.39250034e-01],\n",
       "       [3.58926342e-03, 9.96410787e-01],\n",
       "       [2.31243744e-02, 9.76875663e-01],\n",
       "       [3.13049138e-01, 6.86950803e-01],\n",
       "       [1.89820945e-01, 8.10179055e-01],\n",
       "       [8.54674041e-01, 1.45325929e-01],\n",
       "       [9.92938697e-01, 7.06129381e-03],\n",
       "       [9.84812260e-01, 1.51877217e-02],\n",
       "       [9.95851874e-01, 4.14814195e-03],\n",
       "       [6.66973088e-03, 9.93330300e-01],\n",
       "       [6.89927518e-01, 3.10072482e-01],\n",
       "       [2.00928468e-02, 9.79907155e-01],\n",
       "       [8.32671523e-01, 1.67328462e-01],\n",
       "       [4.42175269e-02, 9.55782413e-01],\n",
       "       [3.65766674e-01, 6.34233415e-01],\n",
       "       [9.67393100e-01, 3.26068886e-02],\n",
       "       [8.39592338e-01, 1.60407692e-01],\n",
       "       [1.74754532e-03, 9.98252451e-01],\n",
       "       [8.66807878e-01, 1.33192092e-01],\n",
       "       [2.45145649e-01, 7.54854321e-01],\n",
       "       [6.00875961e-03, 9.93991196e-01],\n",
       "       [3.09673510e-03, 9.96903241e-01],\n",
       "       [9.78566885e-01, 2.14330796e-02],\n",
       "       [3.67306583e-02, 9.63269353e-01],\n",
       "       [9.68832374e-01, 3.11675910e-02],\n",
       "       [7.11691260e-01, 2.88308710e-01],\n",
       "       [2.78134528e-03, 9.97218609e-01],\n",
       "       [9.95851874e-01, 4.14814195e-03],\n",
       "       [4.93469008e-04, 9.99506474e-01],\n",
       "       [9.92119312e-01, 7.88067188e-03],\n",
       "       [9.05582488e-01, 9.44175273e-02],\n",
       "       [8.81999373e-01, 1.18000582e-01],\n",
       "       [1.41571714e-02, 9.85842884e-01],\n",
       "       [7.08253503e-01, 2.91746557e-01],\n",
       "       [7.95583606e-01, 2.04416424e-01],\n",
       "       [1.91260621e-01, 8.08739364e-01],\n",
       "       [9.73851740e-01, 2.61482205e-02],\n",
       "       [1.85288931e-03, 9.98147130e-01],\n",
       "       [9.57588375e-01, 4.24116030e-02],\n",
       "       [3.77018377e-03, 9.96229827e-01],\n",
       "       [9.99180257e-01, 8.19670327e-04],\n",
       "       [7.77616457e-04, 9.99222398e-01],\n",
       "       [9.88652289e-01, 1.13476729e-02],\n",
       "       [3.92877787e-01, 6.07122183e-01],\n",
       "       [6.37996197e-01, 3.62003833e-01],\n",
       "       [6.90207303e-01, 3.09792668e-01],\n",
       "       [5.35021722e-01, 4.64978307e-01],\n",
       "       [4.60664108e-02, 9.53933597e-01],\n",
       "       [7.37046063e-01, 2.62953937e-01],\n",
       "       [6.90207303e-01, 3.09792668e-01],\n",
       "       [9.93593156e-01, 6.40680408e-03],\n",
       "       [6.80172816e-02, 9.31982756e-01],\n",
       "       [1.83259486e-03, 9.98167396e-01],\n",
       "       [5.01472279e-02, 9.49852824e-01],\n",
       "       [1.68058835e-02, 9.83194113e-01],\n",
       "       [9.87179458e-01, 1.28205689e-02],\n",
       "       [7.12038763e-03, 9.92879689e-01],\n",
       "       [9.36787426e-01, 6.32126182e-02],\n",
       "       [1.37005560e-02, 9.86299455e-01],\n",
       "       [7.51689494e-01, 2.48310551e-01],\n",
       "       [4.24999595e-02, 9.57500041e-01],\n",
       "       [4.35502827e-02, 9.56449687e-01],\n",
       "       [1.03743136e-01, 8.96256924e-01],\n",
       "       [2.31120046e-02, 9.76888061e-01],\n",
       "       [7.58126006e-02, 9.24187422e-01],\n",
       "       [2.42064208e-01, 7.57935822e-01],\n",
       "       [5.52822314e-02, 9.44717765e-01],\n",
       "       [9.84812260e-01, 1.51877217e-02],\n",
       "       [3.87364365e-02, 9.61263597e-01],\n",
       "       [1.55311659e-01, 8.44688296e-01],\n",
       "       [5.58850216e-03, 9.94411528e-01],\n",
       "       [9.94264185e-01, 5.73576940e-03],\n",
       "       [8.29080045e-01, 1.70919940e-01],\n",
       "       [9.87170160e-01, 1.28297806e-02],\n",
       "       [9.13649201e-01, 8.63507837e-02],\n",
       "       [2.55941437e-03, 9.97440577e-01],\n",
       "       [9.04465258e-01, 9.55347121e-02],\n",
       "       [2.23155972e-02, 9.77684379e-01],\n",
       "       [2.91419216e-04, 9.99708593e-01],\n",
       "       [2.94178608e-03, 9.97058272e-01],\n",
       "       [9.91295218e-01, 8.70479085e-03],\n",
       "       [2.46245533e-01, 7.53754556e-01],\n",
       "       [9.67532575e-01, 3.24673839e-02],\n",
       "       [4.95773196e-01, 5.04226744e-01],\n",
       "       [1.91143826e-02, 9.80885565e-01],\n",
       "       [6.03786469e-01, 3.96213531e-01],\n",
       "       [3.68859095e-04, 9.99631166e-01],\n",
       "       [5.30851781e-02, 9.46914852e-01],\n",
       "       [3.77726257e-02, 9.62227404e-01],\n",
       "       [9.93593156e-01, 6.40680408e-03],\n",
       "       [9.84181046e-01, 1.58190168e-02],\n",
       "       [2.01439217e-01, 7.98560798e-01],\n",
       "       [8.05838645e-01, 1.94161355e-01],\n",
       "       [9.11103547e-01, 8.88964459e-02],\n",
       "       [9.76841986e-01, 2.31580492e-02],\n",
       "       [2.49421597e-01, 7.50578463e-01],\n",
       "       [8.85079086e-01, 1.14920914e-01],\n",
       "       [7.57869035e-02, 9.24213052e-01],\n",
       "       [8.24105069e-02, 9.17589545e-01],\n",
       "       [7.92050183e-01, 2.07949802e-01],\n",
       "       [1.65649801e-02, 9.83434975e-01],\n",
       "       [2.76883449e-02, 9.72311616e-01],\n",
       "       [8.10318768e-01, 1.89681187e-01],\n",
       "       [1.15153655e-01, 8.84846330e-01],\n",
       "       [1.78908437e-01, 8.21091533e-01],\n",
       "       [9.34101701e-01, 6.58983067e-02],\n",
       "       [5.55477619e-01, 4.44522381e-01],\n",
       "       [4.33736928e-02, 9.56626296e-01],\n",
       "       [1.15153655e-01, 8.84846330e-01],\n",
       "       [3.28884065e-01, 6.71115935e-01],\n",
       "       [9.84812260e-01, 1.51877217e-02],\n",
       "       [4.83198881e-01, 5.16801178e-01],\n",
       "       [9.61318314e-01, 3.86816896e-02],\n",
       "       [9.84294295e-01, 1.57056693e-02],\n",
       "       [9.43094134e-01, 5.69059104e-02],\n",
       "       [9.47193503e-02, 9.05280590e-01],\n",
       "       [9.67376709e-01, 3.26232761e-02],\n",
       "       [3.35889548e-01, 6.64110422e-01],\n",
       "       [1.63947269e-02, 9.83605325e-01],\n",
       "       [8.65379870e-01, 1.34620115e-01],\n",
       "       [2.11305365e-01, 7.88694620e-01],\n",
       "       [8.40496719e-01, 1.59503222e-01],\n",
       "       [4.23539132e-01, 5.76460898e-01],\n",
       "       [9.92938697e-01, 7.06129381e-03],\n",
       "       [8.46321106e-01, 1.53678849e-01],\n",
       "       [9.73851740e-01, 2.61482205e-02],\n",
       "       [9.73851740e-01, 2.61482205e-02],\n",
       "       [9.92408633e-01, 7.59140775e-03],\n",
       "       [9.94133890e-01, 5.86614199e-03],\n",
       "       [4.22758758e-02, 9.57724154e-01],\n",
       "       [1.23813814e-02, 9.87618566e-01],\n",
       "       [7.62344182e-01, 2.37655893e-01],\n",
       "       [2.86326587e-01, 7.13673353e-01],\n",
       "       [5.35021722e-01, 4.64978307e-01],\n",
       "       [3.01612914e-01, 6.98387086e-01],\n",
       "       [9.34101701e-01, 6.58983067e-02],\n",
       "       [9.52082992e-01, 4.79169711e-02],\n",
       "       [2.71948450e-03, 9.97280478e-01],\n",
       "       [1.72266454e-01, 8.27733576e-01],\n",
       "       [2.71630079e-01, 7.28370011e-01],\n",
       "       [7.32433915e-01, 2.67566144e-01],\n",
       "       [9.52767134e-01, 4.72328216e-02],\n",
       "       [8.05838645e-01, 1.94161355e-01],\n",
       "       [2.95233971e-04, 9.99704778e-01],\n",
       "       [2.26710010e-02, 9.77328956e-01],\n",
       "       [9.08326544e-03, 9.90916789e-01],\n",
       "       [8.66846502e-01, 1.33153513e-01],\n",
       "       [1.28465251e-03, 9.98715401e-01],\n",
       "       [1.78908437e-01, 8.21091533e-01],\n",
       "       [7.54355729e-01, 2.45644212e-01],\n",
       "       [9.90160584e-01, 9.83939320e-03],\n",
       "       [1.03662506e-01, 8.96337450e-01],\n",
       "       [9.73851740e-01, 2.61482205e-02],\n",
       "       [9.84812260e-01, 1.51877217e-02],\n",
       "       [2.69321859e-01, 7.30678201e-01],\n",
       "       [9.32208002e-01, 6.77919611e-02],\n",
       "       [3.42099160e-01, 6.57900810e-01],\n",
       "       [9.95851874e-01, 4.14814195e-03],\n",
       "       [2.12803297e-02, 9.78719652e-01],\n",
       "       [1.60363600e-01, 8.39636385e-01],\n",
       "       [1.01414479e-01, 8.98585558e-01],\n",
       "       [9.93593156e-01, 6.40680408e-03],\n",
       "       [9.92408633e-01, 7.59140775e-03],\n",
       "       [9.71075237e-01, 2.89247595e-02],\n",
       "       [9.71075237e-01, 2.89247595e-02],\n",
       "       [4.62340713e-01, 5.37659287e-01],\n",
       "       [9.61318314e-01, 3.86816710e-02],\n",
       "       [9.73851740e-01, 2.61482205e-02],\n",
       "       [1.97159663e-01, 8.02840352e-01],\n",
       "       [1.48919821e-01, 8.51080179e-01],\n",
       "       [3.46126586e-01, 6.53873384e-01],\n",
       "       [1.31404325e-01, 8.68595719e-01],\n",
       "       [9.88117754e-01, 1.18821915e-02],\n",
       "       [3.63053121e-02, 9.63694751e-01],\n",
       "       [9.97874379e-01, 2.12563062e-03],\n",
       "       [9.74617064e-01, 2.53829751e-02],\n",
       "       [4.04849276e-03, 9.95951533e-01],\n",
       "       [2.03852341e-01, 7.96147645e-01],\n",
       "       [8.41183543e-01, 1.58816442e-01],\n",
       "       [9.67368662e-01, 3.26313861e-02],\n",
       "       [6.74042618e-03, 9.93259609e-01],\n",
       "       [9.40465510e-01, 5.95344715e-02],\n",
       "       [7.53762901e-01, 2.46237114e-01],\n",
       "       [8.52550566e-01, 1.47449508e-01],\n",
       "       [3.54460650e-03, 9.96455431e-01],\n",
       "       [1.31722409e-02, 9.86827731e-01],\n",
       "       [2.03852281e-01, 7.96147704e-01],\n",
       "       [6.08153343e-01, 3.91846716e-01],\n",
       "       [6.16358407e-02, 9.38364208e-01],\n",
       "       [9.74080741e-01, 2.59192325e-02],\n",
       "       [1.81846693e-03, 9.98181581e-01],\n",
       "       [5.12686521e-02, 9.48731363e-01],\n",
       "       [9.19235766e-01, 8.07642490e-02],\n",
       "       [3.13951517e-04, 9.99686122e-01],\n",
       "       [2.63919998e-02, 9.73607957e-01],\n",
       "       [9.43094134e-01, 5.69059104e-02],\n",
       "       [1.06942795e-01, 8.93057227e-01],\n",
       "       [8.59762192e-01, 1.40237808e-01],\n",
       "       [5.35021722e-01, 4.64978307e-01],\n",
       "       [2.11303830e-01, 7.88696170e-01],\n",
       "       [3.55947344e-03, 9.96440470e-01],\n",
       "       [8.81999373e-01, 1.18000582e-01],\n",
       "       [9.95851874e-01, 4.14814195e-03],\n",
       "       [5.09211235e-02, 9.49078858e-01],\n",
       "       [6.07958853e-01, 3.92041117e-01],\n",
       "       [3.01908374e-01, 6.98091686e-01]], dtype=float32)"
      ]
     },
     "execution_count": 19,
     "metadata": {},
     "output_type": "execute_result"
    }
   ],
   "source": [
    "y_pred"
   ]
  },
  {
   "cell_type": "code",
   "execution_count": 20,
   "metadata": {},
   "outputs": [],
   "source": [
    "import numpy as np\n",
    "y_pred = np.argmax(y_pred, axis=0)"
   ]
  },
  {
   "cell_type": "code",
   "execution_count": 21,
   "metadata": {},
   "outputs": [
    {
     "data": {
      "text/plain": [
       "array([54, 92], dtype=int64)"
      ]
     },
     "execution_count": 21,
     "metadata": {},
     "output_type": "execute_result"
    }
   ],
   "source": [
    "y_pred"
   ]
  },
  {
   "cell_type": "code",
   "execution_count": 22,
   "metadata": {},
   "outputs": [],
   "source": [
    "\n",
    "from tensorflow.keras.models import load_model\n",
    "from tensorflow.keras.preprocessing import image"
   ]
  },
  {
   "cell_type": "code",
   "execution_count": 23,
   "metadata": {},
   "outputs": [
    {
     "ename": "OSError",
     "evalue": "SavedModel file does not exist at: model_resnet50.h5/{saved_model.pbtxt|saved_model.pb}",
     "output_type": "error",
     "traceback": [
      "\u001b[1;31m---------------------------------------------------------------------------\u001b[0m",
      "\u001b[1;31mOSError\u001b[0m                                   Traceback (most recent call last)",
      "\u001b[1;32m<ipython-input-23-9887cbb7b739>\u001b[0m in \u001b[0;36m<module>\u001b[1;34m\u001b[0m\n\u001b[1;32m----> 1\u001b[1;33m \u001b[0mmodel\u001b[0m\u001b[1;33m=\u001b[0m\u001b[0mload_model\u001b[0m\u001b[1;33m(\u001b[0m\u001b[1;34m'model_resnet50.h5'\u001b[0m\u001b[1;33m)\u001b[0m\u001b[1;33m\u001b[0m\u001b[1;33m\u001b[0m\u001b[0m\n\u001b[0m",
      "\u001b[1;32m~\\anaconda3\\lib\\site-packages\\tensorflow\\python\\keras\\saving\\save.py\u001b[0m in \u001b[0;36mload_model\u001b[1;34m(filepath, custom_objects, compile, options)\u001b[0m\n\u001b[0;32m    209\u001b[0m       \u001b[0mfilepath\u001b[0m \u001b[1;33m=\u001b[0m \u001b[0mpath_to_string\u001b[0m\u001b[1;33m(\u001b[0m\u001b[0mfilepath\u001b[0m\u001b[1;33m)\u001b[0m\u001b[1;33m\u001b[0m\u001b[1;33m\u001b[0m\u001b[0m\n\u001b[0;32m    210\u001b[0m       \u001b[1;32mif\u001b[0m \u001b[0misinstance\u001b[0m\u001b[1;33m(\u001b[0m\u001b[0mfilepath\u001b[0m\u001b[1;33m,\u001b[0m \u001b[0msix\u001b[0m\u001b[1;33m.\u001b[0m\u001b[0mstring_types\u001b[0m\u001b[1;33m)\u001b[0m\u001b[1;33m:\u001b[0m\u001b[1;33m\u001b[0m\u001b[1;33m\u001b[0m\u001b[0m\n\u001b[1;32m--> 211\u001b[1;33m         \u001b[0mloader_impl\u001b[0m\u001b[1;33m.\u001b[0m\u001b[0mparse_saved_model\u001b[0m\u001b[1;33m(\u001b[0m\u001b[0mfilepath\u001b[0m\u001b[1;33m)\u001b[0m\u001b[1;33m\u001b[0m\u001b[1;33m\u001b[0m\u001b[0m\n\u001b[0m\u001b[0;32m    212\u001b[0m         \u001b[1;32mreturn\u001b[0m \u001b[0msaved_model_load\u001b[0m\u001b[1;33m.\u001b[0m\u001b[0mload\u001b[0m\u001b[1;33m(\u001b[0m\u001b[0mfilepath\u001b[0m\u001b[1;33m,\u001b[0m \u001b[0mcompile\u001b[0m\u001b[1;33m,\u001b[0m \u001b[0moptions\u001b[0m\u001b[1;33m)\u001b[0m\u001b[1;33m\u001b[0m\u001b[1;33m\u001b[0m\u001b[0m\n\u001b[0;32m    213\u001b[0m \u001b[1;33m\u001b[0m\u001b[0m\n",
      "\u001b[1;32m~\\anaconda3\\lib\\site-packages\\tensorflow\\python\\saved_model\\loader_impl.py\u001b[0m in \u001b[0;36mparse_saved_model\u001b[1;34m(export_dir)\u001b[0m\n\u001b[0;32m    109\u001b[0m       \u001b[1;32mraise\u001b[0m \u001b[0mIOError\u001b[0m\u001b[1;33m(\u001b[0m\u001b[1;34m\"Cannot parse file %s: %s.\"\u001b[0m \u001b[1;33m%\u001b[0m \u001b[1;33m(\u001b[0m\u001b[0mpath_to_pbtxt\u001b[0m\u001b[1;33m,\u001b[0m \u001b[0mstr\u001b[0m\u001b[1;33m(\u001b[0m\u001b[0me\u001b[0m\u001b[1;33m)\u001b[0m\u001b[1;33m)\u001b[0m\u001b[1;33m)\u001b[0m\u001b[1;33m\u001b[0m\u001b[1;33m\u001b[0m\u001b[0m\n\u001b[0;32m    110\u001b[0m   \u001b[1;32melse\u001b[0m\u001b[1;33m:\u001b[0m\u001b[1;33m\u001b[0m\u001b[1;33m\u001b[0m\u001b[0m\n\u001b[1;32m--> 111\u001b[1;33m     raise IOError(\"SavedModel file does not exist at: %s/{%s|%s}\" %\n\u001b[0m\u001b[0;32m    112\u001b[0m                   (export_dir,\n\u001b[0;32m    113\u001b[0m                    \u001b[0mconstants\u001b[0m\u001b[1;33m.\u001b[0m\u001b[0mSAVED_MODEL_FILENAME_PBTXT\u001b[0m\u001b[1;33m,\u001b[0m\u001b[1;33m\u001b[0m\u001b[1;33m\u001b[0m\u001b[0m\n",
      "\u001b[1;31mOSError\u001b[0m: SavedModel file does not exist at: model_resnet50.h5/{saved_model.pbtxt|saved_model.pb}"
     ]
    }
   ],
   "source": [
    "model=load_model('model_resnet50.h5')"
   ]
  },
  {
   "cell_type": "code",
   "execution_count": null,
   "metadata": {},
   "outputs": [],
   "source": [
    "img=image.load_img('Datasets/Test/Autistic/002.jpg',target_size=(224,224))"
   ]
  },
  {
   "cell_type": "code",
   "execution_count": null,
   "metadata": {},
   "outputs": [],
   "source": [
    "\n",
    "x=image.img_to_array(img)\n",
    "x"
   ]
  }
 ],
 "metadata": {
  "kernelspec": {
   "display_name": "Python 3",
   "language": "python",
   "name": "python3"
  },
  "language_info": {
   "codemirror_mode": {
    "name": "ipython",
    "version": 3
   },
   "file_extension": ".py",
   "mimetype": "text/x-python",
   "name": "python",
   "nbconvert_exporter": "python",
   "pygments_lexer": "ipython3",
   "version": "3.8.5"
  }
 },
 "nbformat": 4,
 "nbformat_minor": 5
}
